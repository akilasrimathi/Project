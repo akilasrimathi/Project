{
 "cells": [
  {
   "cell_type": "markdown",
   "metadata": {},
   "source": [
    "# COMPARING MACHINE LEARNING ALGORITHMS"
   ]
  },
  {
   "cell_type": "markdown",
   "metadata": {},
   "source": [
    "## STEP 1:LOAD DATA"
   ]
  },
  {
   "cell_type": "code",
   "execution_count": 26,
   "metadata": {
    "scrolled": false
   },
   "outputs": [
    {
     "name": "stdout",
     "output_type": "stream",
     "text": [
      "     target  alcohol  malic_acid   ash  alcalinity_of_ash  magnesium  total_phenols  Flavanoids  \\\n",
      "0         1    14.23        1.71  2.43               15.6        127           2.80        3.06   \n",
      "1         1    13.20        1.78  2.14               11.2        100           2.65        2.76   \n",
      "2         1    13.16        2.36  2.67               18.6        101           2.80        3.24   \n",
      "3         1    14.37        1.95  2.50               16.8        113           3.85        3.49   \n",
      "4         1    13.24        2.59  2.87               21.0        118           2.80        2.69   \n",
      "5         1    14.20        1.76  2.45               15.2        112           3.27        3.39   \n",
      "6         1    14.39        1.87  2.45               14.6         96           2.50        2.52   \n",
      "7         1    14.06        2.15  2.61               17.6        121           2.60        2.51   \n",
      "8         1    14.83        1.64  2.17               14.0         97           2.80        2.98   \n",
      "9         1    13.86        1.35  2.27               16.0         98           2.98        3.15   \n",
      "10        1    14.10        2.16  2.30               18.0        105           2.95        3.32   \n",
      "11        1    14.12        1.48  2.32               16.8         95           2.20        2.43   \n",
      "12        1    13.75        1.73  2.41               16.0         89           2.60        2.76   \n",
      "13        1    14.75        1.73  2.39               11.4         91           3.10        3.69   \n",
      "14        1    14.38        1.87  2.38               12.0        102           3.30        3.64   \n",
      "15        1    13.63        1.81  2.70               17.2        112           2.85        2.91   \n",
      "16        1    14.30        1.92  2.72               20.0        120           2.80        3.14   \n",
      "17        1    13.83        1.57  2.62               20.0        115           2.95        3.40   \n",
      "18        1    14.19        1.59  2.48               16.5        108           3.30        3.93   \n",
      "19        1    13.64        3.10  2.56               15.2        116           2.70        3.03   \n",
      "20        1    14.06        1.63  2.28               16.0        126           3.00        3.17   \n",
      "21        1    12.93        3.80  2.65               18.6        102           2.41        2.41   \n",
      "22        1    13.71        1.86  2.36               16.6        101           2.61        2.88   \n",
      "23        1    12.85        1.60  2.52               17.8         95           2.48        2.37   \n",
      "24        1    13.50        1.81  2.61               20.0         96           2.53        2.61   \n",
      "25        1    13.05        2.05  3.22               25.0        124           2.63        2.68   \n",
      "26        1    13.39        1.77  2.62               16.1         93           2.85        2.94   \n",
      "27        1    13.30        1.72  2.14               17.0         94           2.40        2.19   \n",
      "28        1    13.87        1.90  2.80               19.4        107           2.95        2.97   \n",
      "29        1    14.02        1.68  2.21               16.0         96           2.65        2.33   \n",
      "..      ...      ...         ...   ...                ...        ...            ...         ...   \n",
      "148       3    13.32        3.24  2.38               21.5         92           1.93        0.76   \n",
      "149       3    13.08        3.90  2.36               21.5        113           1.41        1.39   \n",
      "150       3    13.50        3.12  2.62               24.0        123           1.40        1.57   \n",
      "151       3    12.79        2.67  2.48               22.0        112           1.48        1.36   \n",
      "152       3    13.11        1.90  2.75               25.5        116           2.20        1.28   \n",
      "153       3    13.23        3.30  2.28               18.5         98           1.80        0.83   \n",
      "154       3    12.58        1.29  2.10               20.0        103           1.48        0.58   \n",
      "155       3    13.17        5.19  2.32               22.0         93           1.74        0.63   \n",
      "156       3    13.84        4.12  2.38               19.5         89           1.80        0.83   \n",
      "157       3    12.45        3.03  2.64               27.0         97           1.90        0.58   \n",
      "158       3    14.34        1.68  2.70               25.0         98           2.80        1.31   \n",
      "159       3    13.48        1.67  2.64               22.5         89           2.60        1.10   \n",
      "160       3    12.36        3.83  2.38               21.0         88           2.30        0.92   \n",
      "161       3    13.69        3.26  2.54               20.0        107           1.83        0.56   \n",
      "162       3    12.85        3.27  2.58               22.0        106           1.65        0.60   \n",
      "163       3    12.96        3.45  2.35               18.5        106           1.39        0.70   \n",
      "164       3    13.78        2.76  2.30               22.0         90           1.35        0.68   \n",
      "165       3    13.73        4.36  2.26               22.5         88           1.28        0.47   \n",
      "166       3    13.45        3.70  2.60               23.0        111           1.70        0.92   \n",
      "167       3    12.82        3.37  2.30               19.5         88           1.48        0.66   \n",
      "168       3    13.58        2.58  2.69               24.5        105           1.55        0.84   \n",
      "169       3    13.40        4.60  2.86               25.0        112           1.98        0.96   \n",
      "170       3    12.20        3.03  2.32               19.0         96           1.25        0.49   \n",
      "171       3    12.77        2.39  2.28               19.5         86           1.39        0.51   \n",
      "172       3    14.16        2.51  2.48               20.0         91           1.68        0.70   \n",
      "173       3    13.71        5.65  2.45               20.5         95           1.68        0.61   \n",
      "174       3    13.40        3.91  2.48               23.0        102           1.80        0.75   \n",
      "175       3    13.27        4.28  2.26               20.0        120           1.59        0.69   \n",
      "176       3    13.17        2.59  2.37               20.0        120           1.65        0.68   \n",
      "177       3    14.13        4.10  2.74               24.5         96           2.05        0.76   \n",
      "\n",
      "     Nonflavanoid_phenols  Proanthocyanins  Color intensity   Hue  OD280/OD315 of diluted wines  \\\n",
      "0                    0.28             2.29             5.64  1.04                          3.92   \n",
      "1                    0.26             1.28             4.38  1.05                          3.40   \n",
      "2                    0.30             2.81             5.68  1.03                          3.17   \n",
      "3                    0.24             2.18             7.80  0.86                          3.45   \n",
      "4                    0.39             1.82             4.32  1.04                          2.93   \n",
      "5                    0.34             1.97             6.75  1.05                          2.85   \n",
      "6                    0.30             1.98             5.25  1.02                          3.58   \n",
      "7                    0.31             1.25             5.05  1.06                          3.58   \n",
      "8                    0.29             1.98             5.20  1.08                          2.85   \n",
      "9                    0.22             1.85             7.22  1.01                          3.55   \n",
      "10                   0.22             2.38             5.75  1.25                          3.17   \n",
      "11                   0.26             1.57             5.00  1.17                          2.82   \n",
      "12                   0.29             1.81             5.60  1.15                          2.90   \n",
      "13                   0.43             2.81             5.40  1.25                          2.73   \n",
      "14                   0.29             2.96             7.50  1.20                          3.00   \n",
      "15                   0.30             1.46             7.30  1.28                          2.88   \n",
      "16                   0.33             1.97             6.20  1.07                          2.65   \n",
      "17                   0.40             1.72             6.60  1.13                          2.57   \n",
      "18                   0.32             1.86             8.70  1.23                          2.82   \n",
      "19                   0.17             1.66             5.10  0.96                          3.36   \n",
      "20                   0.24             2.10             5.65  1.09                          3.71   \n",
      "21                   0.25             1.98             4.50  1.03                          3.52   \n",
      "22                   0.27             1.69             3.80  1.11                          4.00   \n",
      "23                   0.26             1.46             3.93  1.09                          3.63   \n",
      "24                   0.28             1.66             3.52  1.12                          3.82   \n",
      "25                   0.47             1.92             3.58  1.13                          3.20   \n",
      "26                   0.34             1.45             4.80  0.92                          3.22   \n",
      "27                   0.27             1.35             3.95  1.02                          2.77   \n",
      "28                   0.37             1.76             4.50  1.25                          3.40   \n",
      "29                   0.26             1.98             4.70  1.04                          3.59   \n",
      "..                    ...              ...              ...   ...                           ...   \n",
      "148                  0.45             1.25             8.42  0.55                          1.62   \n",
      "149                  0.34             1.14             9.40  0.57                          1.33   \n",
      "150                  0.22             1.25             8.60  0.59                          1.30   \n",
      "151                  0.24             1.26            10.80  0.48                          1.47   \n",
      "152                  0.26             1.56             7.10  0.61                          1.33   \n",
      "153                  0.61             1.87            10.52  0.56                          1.51   \n",
      "154                  0.53             1.40             7.60  0.58                          1.55   \n",
      "155                  0.61             1.55             7.90  0.60                          1.48   \n",
      "156                  0.48             1.56             9.01  0.57                          1.64   \n",
      "157                  0.63             1.14             7.50  0.67                          1.73   \n",
      "158                  0.53             2.70            13.00  0.57                          1.96   \n",
      "159                  0.52             2.29            11.75  0.57                          1.78   \n",
      "160                  0.50             1.04             7.65  0.56                          1.58   \n",
      "161                  0.50             0.80             5.88  0.96                          1.82   \n",
      "162                  0.60             0.96             5.58  0.87                          2.11   \n",
      "163                  0.40             0.94             5.28  0.68                          1.75   \n",
      "164                  0.41             1.03             9.58  0.70                          1.68   \n",
      "165                  0.52             1.15             6.62  0.78                          1.75   \n",
      "166                  0.43             1.46            10.68  0.85                          1.56   \n",
      "167                  0.40             0.97            10.26  0.72                          1.75   \n",
      "168                  0.39             1.54             8.66  0.74                          1.80   \n",
      "169                  0.27             1.11             8.50  0.67                          1.92   \n",
      "170                  0.40             0.73             5.50  0.66                          1.83   \n",
      "171                  0.48             0.64             9.90  0.57                          1.63   \n",
      "172                  0.44             1.24             9.70  0.62                          1.71   \n",
      "173                  0.52             1.06             7.70  0.64                          1.74   \n",
      "174                  0.43             1.41             7.30  0.70                          1.56   \n",
      "175                  0.43             1.35            10.20  0.59                          1.56   \n",
      "176                  0.53             1.46             9.30  0.60                          1.62   \n",
      "177                  0.56             1.35             9.20  0.61                          1.60   \n",
      "\n",
      "     Proline  \n",
      "0       1065  \n",
      "1       1050  \n",
      "2       1185  \n",
      "3       1480  \n",
      "4        735  \n",
      "5       1450  \n",
      "6       1290  \n",
      "7       1295  \n",
      "8       1045  \n",
      "9       1045  \n",
      "10      1510  \n",
      "11      1280  \n",
      "12      1320  \n",
      "13      1150  \n",
      "14      1547  \n",
      "15      1310  \n",
      "16      1280  \n",
      "17      1130  \n",
      "18      1680  \n",
      "19       845  \n",
      "20       780  \n",
      "21       770  \n",
      "22      1035  \n",
      "23      1015  \n",
      "24       845  \n",
      "25       830  \n",
      "26      1195  \n",
      "27      1285  \n",
      "28       915  \n",
      "29      1035  \n",
      "..       ...  \n",
      "148      650  \n",
      "149      550  \n",
      "150      500  \n",
      "151      480  \n",
      "152      425  \n",
      "153      675  \n",
      "154      640  \n",
      "155      725  \n",
      "156      480  \n",
      "157      880  \n",
      "158      660  \n",
      "159      620  \n",
      "160      520  \n",
      "161      680  \n",
      "162      570  \n",
      "163      675  \n",
      "164      615  \n",
      "165      520  \n",
      "166      695  \n",
      "167      685  \n",
      "168      750  \n",
      "169      630  \n",
      "170      510  \n",
      "171      470  \n",
      "172      660  \n",
      "173      740  \n",
      "174      750  \n",
      "175      835  \n",
      "176      840  \n",
      "177      560  \n",
      "\n",
      "[178 rows x 14 columns]\n"
     ]
    }
   ],
   "source": [
    "from pandas import read_csv\n",
    "filename = 'wine.data.csv'\n",
    "names = ['target', 'alcohol', 'malic_acid', 'ash', 'alcalinity_of_ash', 'magnesium', 'total_phenols', 'Flavanoids',\n",
    "         'Nonflavanoid_phenols', 'Proanthocyanins', 'Color intensity', 'Hue', 'OD280/OD315 of diluted wines',  'Proline']\n",
    "dataset = read_csv(filename, names=names)\n",
    "print(dataset)"
   ]
  },
  {
   "cell_type": "code",
   "execution_count": 73,
   "metadata": {},
   "outputs": [],
   "source": [
    "from sklearn.datasets import load_wine\n",
    "wine = load_wine()"
   ]
  },
  {
   "cell_type": "markdown",
   "metadata": {},
   "source": [
    "## STEP 2: DATA EXPLORATION"
   ]
  },
  {
   "cell_type": "code",
   "execution_count": 28,
   "metadata": {},
   "outputs": [
    {
     "data": {
      "text/plain": [
       "dict_keys(['DESCR', 'target_names', 'data', 'feature_names', 'target'])"
      ]
     },
     "execution_count": 28,
     "metadata": {},
     "output_type": "execute_result"
    }
   ],
   "source": [
    "wine.keys()"
   ]
  },
  {
   "cell_type": "code",
   "execution_count": 29,
   "metadata": {},
   "outputs": [
    {
     "name": "stdout",
     "output_type": "stream",
     "text": [
      "Number of samples: 178\n",
      "Number of features: 14\n"
     ]
    }
   ],
   "source": [
    "n_samples, n_features = dataset.shape\n",
    "print('Number of samples:', n_samples)\n",
    "print('Number of features:', n_features)\n"
   ]
  },
  {
   "cell_type": "code",
   "execution_count": 31,
   "metadata": {},
   "outputs": [
    {
     "name": "stdout",
     "output_type": "stream",
     "text": [
      "(178, 13)\n",
      "(178,)\n"
     ]
    }
   ],
   "source": [
    "print(wine.data.shape)\n",
    "print(wine.target.shape)"
   ]
  },
  {
   "cell_type": "code",
   "execution_count": 32,
   "metadata": {},
   "outputs": [
    {
     "name": "stdout",
     "output_type": "stream",
     "text": [
      "[0 0 0 0 0 0 0 0 0 0 0 0 0 0 0 0 0 0 0 0 0 0 0 0 0 0 0 0 0 0 0 0 0 0 0 0 0\n",
      " 0 0 0 0 0 0 0 0 0 0 0 0 0 0 0 0 0 0 0 0 0 0 1 1 1 1 1 1 1 1 1 1 1 1 1 1 1\n",
      " 1 1 1 1 1 1 1 1 1 1 1 1 1 1 1 1 1 1 1 1 1 1 1 1 1 1 1 1 1 1 1 1 1 1 1 1 1\n",
      " 1 1 1 1 1 1 1 1 1 1 1 1 1 1 1 1 1 1 1 2 2 2 2 2 2 2 2 2 2 2 2 2 2 2 2 2 2\n",
      " 2 2 2 2 2 2 2 2 2 2 2 2 2 2 2 2 2 2 2 2 2 2 2 2 2 2 2 2 2 2]\n"
     ]
    }
   ],
   "source": [
    "print(wine.target)"
   ]
  },
  {
   "cell_type": "code",
   "execution_count": 33,
   "metadata": {},
   "outputs": [
    {
     "data": {
      "text/plain": [
       "array([59, 71, 48], dtype=int64)"
      ]
     },
     "execution_count": 33,
     "metadata": {},
     "output_type": "execute_result"
    }
   ],
   "source": [
    "import numpy as np\n",
    "\n",
    "np.bincount(wine.target)"
   ]
  },
  {
   "cell_type": "markdown",
   "metadata": {},
   "source": [
    "### CLASS NAMES"
   ]
  },
  {
   "cell_type": "code",
   "execution_count": 34,
   "metadata": {},
   "outputs": [
    {
     "name": "stdout",
     "output_type": "stream",
     "text": [
      "['class_0' 'class_1' 'class_2']\n"
     ]
    }
   ],
   "source": [
    "print(wine.target_names)"
   ]
  },
  {
   "cell_type": "markdown",
   "metadata": {},
   "source": [
    "### Peek at Your Data"
   ]
  },
  {
   "cell_type": "code",
   "execution_count": 35,
   "metadata": {},
   "outputs": [
    {
     "name": "stdout",
     "output_type": "stream",
     "text": [
      "   alcohol  malic_acid   ash  alcalinity_of_ash  magnesium  total_phenols  Flavanoids  \\\n",
      "1    14.23        1.71  2.43               15.6        127           2.80        3.06   \n",
      "1    13.20        1.78  2.14               11.2        100           2.65        2.76   \n",
      "1    13.16        2.36  2.67               18.6        101           2.80        3.24   \n",
      "1    14.37        1.95  2.50               16.8        113           3.85        3.49   \n",
      "1    13.24        2.59  2.87               21.0        118           2.80        2.69   \n",
      "\n",
      "   Nonflavanoid_phenols  Proanthocyanins  Color intensity   Hue  OD280/OD315 of diluted wines  \\\n",
      "1                  0.28             2.29             5.64  1.04                          3.92   \n",
      "1                  0.26             1.28             4.38  1.05                          3.40   \n",
      "1                  0.30             2.81             5.68  1.03                          3.17   \n",
      "1                  0.24             2.18             7.80  0.86                          3.45   \n",
      "1                  0.39             1.82             4.32  1.04                          2.93   \n",
      "\n",
      "   Proline  \n",
      "1     1065  \n",
      "1     1050  \n",
      "1     1185  \n",
      "1     1480  \n",
      "1      735  \n"
     ]
    }
   ],
   "source": [
    "# View first 20 rows\n",
    "from pandas import read_csv\n",
    "filename = 'wine.data.csv'\n",
    "names = ['alcohol', 'malic_acid', 'ash', 'alcalinity_of_ash', 'magnesium', 'total_phenols', 'Flavanoids',\n",
    "         'Nonflavanoid_phenols', 'Proanthocyanins', 'Color intensity', 'Hue', 'OD280/OD315 of diluted wines',  'Proline']\n",
    "dataset = read_csv(filename, names=names)\n",
    "peek = dataset.head(5)\n",
    "print(peek)"
   ]
  },
  {
   "cell_type": "markdown",
   "metadata": {},
   "source": [
    "### Dimensions of Your Data"
   ]
  },
  {
   "cell_type": "code",
   "execution_count": 36,
   "metadata": {},
   "outputs": [
    {
     "name": "stdout",
     "output_type": "stream",
     "text": [
      "(178, 13)\n"
     ]
    }
   ],
   "source": [
    "from pandas import read_csv\n",
    "filename = 'wine.data.csv'\n",
    "names = ['alcohol', 'malic_acid', 'ash', 'alcalinity_of_ash', 'magnesium', 'total_phenols', 'Flavanoids',\n",
    "         'Nonflavanoid_phenols', 'Proanthocyanins', 'Color intensity', 'Hue', 'OD280/OD315 of diluted wines',  'Proline']\n",
    "dataset = read_csv(filename, names=names)\n",
    "print(dataset.shape)"
   ]
  },
  {
   "cell_type": "markdown",
   "metadata": {},
   "source": [
    "### Data Type For Each Attribute"
   ]
  },
  {
   "cell_type": "code",
   "execution_count": 37,
   "metadata": {},
   "outputs": [
    {
     "name": "stdout",
     "output_type": "stream",
     "text": [
      "alcohol                         float64\n",
      "malic_acid                      float64\n",
      "ash                             float64\n",
      "alcalinity_of_ash               float64\n",
      "magnesium                         int64\n",
      "total_phenols                   float64\n",
      "Flavanoids                      float64\n",
      "Nonflavanoid_phenols            float64\n",
      "Proanthocyanins                 float64\n",
      "Color intensity                 float64\n",
      "Hue                             float64\n",
      "OD280/OD315 of diluted wines    float64\n",
      "Proline                           int64\n",
      "dtype: object\n"
     ]
    }
   ],
   "source": [
    "from pandas import read_csv\n",
    "filename = 'wine.data.csv'\n",
    "names = ['alcohol', 'malic_acid', 'ash', 'alcalinity_of_ash', 'magnesium', 'total_phenols', 'Flavanoids',\n",
    "         'Nonflavanoid_phenols', 'Proanthocyanins', 'Color intensity', 'Hue', 'OD280/OD315 of diluted wines',  'Proline']\n",
    "dataset = read_csv(filename, names=names)\n",
    "print(dataset.dtypes)"
   ]
  },
  {
   "cell_type": "markdown",
   "metadata": {},
   "source": [
    "##  Data Exploration Using Descriptive Statistics"
   ]
  },
  {
   "cell_type": "code",
   "execution_count": 38,
   "metadata": {},
   "outputs": [
    {
     "name": "stdout",
     "output_type": "stream",
     "text": [
      "       alcohol  malic_acid      ash  alcalinity_of_ash  magnesium  total_phenols  Flavanoids  \\\n",
      "count  178.000     178.000  178.000            178.000    178.000        178.000     178.000   \n",
      "mean    13.001       2.336    2.367             19.495     99.742          2.295       2.029   \n",
      "std      0.812       1.117    0.274              3.340     14.282          0.626       0.999   \n",
      "min     11.030       0.740    1.360             10.600     70.000          0.980       0.340   \n",
      "25%     12.362       1.603    2.210             17.200     88.000          1.742       1.205   \n",
      "50%     13.050       1.865    2.360             19.500     98.000          2.355       2.135   \n",
      "75%     13.678       3.083    2.558             21.500    107.000          2.800       2.875   \n",
      "max     14.830       5.800    3.230             30.000    162.000          3.880       5.080   \n",
      "\n",
      "       Nonflavanoid_phenols  Proanthocyanins  Color intensity      Hue  \\\n",
      "count               178.000          178.000          178.000  178.000   \n",
      "mean                  0.362            1.591            5.058    0.957   \n",
      "std                   0.124            0.572            2.318    0.229   \n",
      "min                   0.130            0.410            1.280    0.480   \n",
      "25%                   0.270            1.250            3.220    0.782   \n",
      "50%                   0.340            1.555            4.690    0.965   \n",
      "75%                   0.438            1.950            6.200    1.120   \n",
      "max                   0.660            3.580           13.000    1.710   \n",
      "\n",
      "       OD280/OD315 of diluted wines   Proline  \n",
      "count                       178.000   178.000  \n",
      "mean                          2.612   746.893  \n",
      "std                           0.710   314.907  \n",
      "min                           1.270   278.000  \n",
      "25%                           1.938   500.500  \n",
      "50%                           2.780   673.500  \n",
      "75%                           3.170   985.000  \n",
      "max                           4.000  1680.000  \n"
     ]
    }
   ],
   "source": [
    "from pandas import read_csv\n",
    "from pandas import set_option\n",
    "filename = 'wine.data.csv'\n",
    "names = ['alcohol', 'malic_acid', 'ash', 'alcalinity_of_ash', 'magnesium', 'total_phenols', 'Flavanoids',\n",
    "         'Nonflavanoid_phenols', 'Proanthocyanins', 'Color intensity', 'Hue', 'OD280/OD315 of diluted wines',  'Proline']\n",
    "dataset = read_csv(filename, names=names)\n",
    "set_option('display.width', 100)\n",
    "set_option('precision', 3)\n",
    "description = dataset.describe()\n",
    "print(description)"
   ]
  },
  {
   "cell_type": "markdown",
   "metadata": {},
   "source": [
    "### Class Distribution (Classification Only)"
   ]
  },
  {
   "cell_type": "code",
   "execution_count": 40,
   "metadata": {},
   "outputs": [
    {
     "name": "stdout",
     "output_type": "stream",
     "text": [
      "target\n",
      "1    59\n",
      "2    71\n",
      "3    48\n",
      "dtype: int64\n"
     ]
    }
   ],
   "source": [
    "from pandas import read_csv\n",
    "filename = 'wine.data.csv'\n",
    "names = ['target', 'alcohol', 'malic_acid', 'ash', 'alcalinity_of_ash', 'magnesium', 'total_phenols', 'Flavanoids',\n",
    "         'Nonflavanoid_phenols', 'Proanthocyanins', 'Color intensity', 'Hue', 'OD280/OD315 of diluted wines',  'Proline']\n",
    "dataset = read_csv(filename, names=names)\n",
    "class_counts = dataset.groupby('target').size()\n",
    "print(class_counts)"
   ]
  },
  {
   "cell_type": "markdown",
   "metadata": {},
   "source": [
    "### Correlations Between Attributes"
   ]
  },
  {
   "cell_type": "code",
   "execution_count": 42,
   "metadata": {},
   "outputs": [
    {
     "name": "stdout",
     "output_type": "stream",
     "text": [
      "                              target  alcohol  malic_acid    ash  alcalinity_of_ash  magnesium  \\\n",
      "target                         1.000   -0.328       0.438 -0.050              0.518     -0.209   \n",
      "alcohol                       -0.328    1.000       0.094  0.212             -0.310      0.271   \n",
      "malic_acid                     0.438    0.094       1.000  0.164              0.289     -0.055   \n",
      "ash                           -0.050    0.212       0.164  1.000              0.443      0.287   \n",
      "alcalinity_of_ash              0.518   -0.310       0.289  0.443              1.000     -0.083   \n",
      "magnesium                     -0.209    0.271      -0.055  0.287             -0.083      1.000   \n",
      "total_phenols                 -0.719    0.289      -0.335  0.129             -0.321      0.214   \n",
      "Flavanoids                    -0.847    0.237      -0.411  0.115             -0.351      0.196   \n",
      "Nonflavanoid_phenols           0.489   -0.156       0.293  0.186              0.362     -0.256   \n",
      "Proanthocyanins               -0.499    0.137      -0.221  0.010             -0.197      0.236   \n",
      "Color intensity                0.266    0.546       0.249  0.259              0.019      0.200   \n",
      "Hue                           -0.617   -0.072      -0.561 -0.075             -0.274      0.055   \n",
      "OD280/OD315 of diluted wines  -0.788    0.072      -0.369  0.004             -0.277      0.066   \n",
      "Proline                       -0.634    0.644      -0.192  0.224             -0.441      0.393   \n",
      "\n",
      "                              total_phenols  Flavanoids  Nonflavanoid_phenols  Proanthocyanins  \\\n",
      "target                               -0.719      -0.847                 0.489           -0.499   \n",
      "alcohol                               0.289       0.237                -0.156            0.137   \n",
      "malic_acid                           -0.335      -0.411                 0.293           -0.221   \n",
      "ash                                   0.129       0.115                 0.186            0.010   \n",
      "alcalinity_of_ash                    -0.321      -0.351                 0.362           -0.197   \n",
      "magnesium                             0.214       0.196                -0.256            0.236   \n",
      "total_phenols                         1.000       0.865                -0.450            0.612   \n",
      "Flavanoids                            0.865       1.000                -0.538            0.653   \n",
      "Nonflavanoid_phenols                 -0.450      -0.538                 1.000           -0.366   \n",
      "Proanthocyanins                       0.612       0.653                -0.366            1.000   \n",
      "Color intensity                      -0.055      -0.172                 0.139           -0.025   \n",
      "Hue                                   0.434       0.543                -0.263            0.296   \n",
      "OD280/OD315 of diluted wines          0.700       0.787                -0.503            0.519   \n",
      "Proline                               0.498       0.494                -0.311            0.330   \n",
      "\n",
      "                              Color intensity    Hue  OD280/OD315 of diluted wines  Proline  \n",
      "target                                  0.266 -0.617                        -0.788   -0.634  \n",
      "alcohol                                 0.546 -0.072                         0.072    0.644  \n",
      "malic_acid                              0.249 -0.561                        -0.369   -0.192  \n",
      "ash                                     0.259 -0.075                         0.004    0.224  \n",
      "alcalinity_of_ash                       0.019 -0.274                        -0.277   -0.441  \n",
      "magnesium                               0.200  0.055                         0.066    0.393  \n",
      "total_phenols                          -0.055  0.434                         0.700    0.498  \n",
      "Flavanoids                             -0.172  0.543                         0.787    0.494  \n",
      "Nonflavanoid_phenols                    0.139 -0.263                        -0.503   -0.311  \n",
      "Proanthocyanins                        -0.025  0.296                         0.519    0.330  \n",
      "Color intensity                         1.000 -0.522                        -0.429    0.316  \n",
      "Hue                                    -0.522  1.000                         0.565    0.236  \n",
      "OD280/OD315 of diluted wines           -0.429  0.565                         1.000    0.313  \n",
      "Proline                                 0.316  0.236                         0.313    1.000  \n"
     ]
    }
   ],
   "source": [
    "from pandas import read_csv\n",
    "from pandas import set_option\n",
    "filename = 'wine.data.csv'\n",
    "names = ['target', 'alcohol', 'malic_acid', 'ash', 'alcalinity_of_ash', 'magnesium', 'total_phenols', 'Flavanoids',\n",
    "         'Nonflavanoid_phenols', 'Proanthocyanins', 'Color intensity', 'Hue', 'OD280/OD315 of diluted wines',  'Proline']\n",
    "dataset = read_csv(filename, names=names)\n",
    "set_option('display.width', 100)\n",
    "set_option('precision', 3)\n",
    "correlations = dataset.corr(method='pearson')\n",
    "print(correlations)"
   ]
  },
  {
   "cell_type": "markdown",
   "metadata": {},
   "source": [
    "### Skew of Univariate Distributions"
   ]
  },
  {
   "cell_type": "code",
   "execution_count": 43,
   "metadata": {},
   "outputs": [
    {
     "name": "stdout",
     "output_type": "stream",
     "text": [
      "<bound method DataFrame.skew of      target  alcohol  malic_acid   ash  alcalinity_of_ash  magnesium  total_phenols  Flavanoids  \\\n",
      "0         1    14.23        1.71  2.43               15.6        127           2.80        3.06   \n",
      "1         1    13.20        1.78  2.14               11.2        100           2.65        2.76   \n",
      "2         1    13.16        2.36  2.67               18.6        101           2.80        3.24   \n",
      "3         1    14.37        1.95  2.50               16.8        113           3.85        3.49   \n",
      "4         1    13.24        2.59  2.87               21.0        118           2.80        2.69   \n",
      "5         1    14.20        1.76  2.45               15.2        112           3.27        3.39   \n",
      "6         1    14.39        1.87  2.45               14.6         96           2.50        2.52   \n",
      "7         1    14.06        2.15  2.61               17.6        121           2.60        2.51   \n",
      "8         1    14.83        1.64  2.17               14.0         97           2.80        2.98   \n",
      "9         1    13.86        1.35  2.27               16.0         98           2.98        3.15   \n",
      "10        1    14.10        2.16  2.30               18.0        105           2.95        3.32   \n",
      "11        1    14.12        1.48  2.32               16.8         95           2.20        2.43   \n",
      "12        1    13.75        1.73  2.41               16.0         89           2.60        2.76   \n",
      "13        1    14.75        1.73  2.39               11.4         91           3.10        3.69   \n",
      "14        1    14.38        1.87  2.38               12.0        102           3.30        3.64   \n",
      "15        1    13.63        1.81  2.70               17.2        112           2.85        2.91   \n",
      "16        1    14.30        1.92  2.72               20.0        120           2.80        3.14   \n",
      "17        1    13.83        1.57  2.62               20.0        115           2.95        3.40   \n",
      "18        1    14.19        1.59  2.48               16.5        108           3.30        3.93   \n",
      "19        1    13.64        3.10  2.56               15.2        116           2.70        3.03   \n",
      "20        1    14.06        1.63  2.28               16.0        126           3.00        3.17   \n",
      "21        1    12.93        3.80  2.65               18.6        102           2.41        2.41   \n",
      "22        1    13.71        1.86  2.36               16.6        101           2.61        2.88   \n",
      "23        1    12.85        1.60  2.52               17.8         95           2.48        2.37   \n",
      "24        1    13.50        1.81  2.61               20.0         96           2.53        2.61   \n",
      "25        1    13.05        2.05  3.22               25.0        124           2.63        2.68   \n",
      "26        1    13.39        1.77  2.62               16.1         93           2.85        2.94   \n",
      "27        1    13.30        1.72  2.14               17.0         94           2.40        2.19   \n",
      "28        1    13.87        1.90  2.80               19.4        107           2.95        2.97   \n",
      "29        1    14.02        1.68  2.21               16.0         96           2.65        2.33   \n",
      "..      ...      ...         ...   ...                ...        ...            ...         ...   \n",
      "148       3    13.32        3.24  2.38               21.5         92           1.93        0.76   \n",
      "149       3    13.08        3.90  2.36               21.5        113           1.41        1.39   \n",
      "150       3    13.50        3.12  2.62               24.0        123           1.40        1.57   \n",
      "151       3    12.79        2.67  2.48               22.0        112           1.48        1.36   \n",
      "152       3    13.11        1.90  2.75               25.5        116           2.20        1.28   \n",
      "153       3    13.23        3.30  2.28               18.5         98           1.80        0.83   \n",
      "154       3    12.58        1.29  2.10               20.0        103           1.48        0.58   \n",
      "155       3    13.17        5.19  2.32               22.0         93           1.74        0.63   \n",
      "156       3    13.84        4.12  2.38               19.5         89           1.80        0.83   \n",
      "157       3    12.45        3.03  2.64               27.0         97           1.90        0.58   \n",
      "158       3    14.34        1.68  2.70               25.0         98           2.80        1.31   \n",
      "159       3    13.48        1.67  2.64               22.5         89           2.60        1.10   \n",
      "160       3    12.36        3.83  2.38               21.0         88           2.30        0.92   \n",
      "161       3    13.69        3.26  2.54               20.0        107           1.83        0.56   \n",
      "162       3    12.85        3.27  2.58               22.0        106           1.65        0.60   \n",
      "163       3    12.96        3.45  2.35               18.5        106           1.39        0.70   \n",
      "164       3    13.78        2.76  2.30               22.0         90           1.35        0.68   \n",
      "165       3    13.73        4.36  2.26               22.5         88           1.28        0.47   \n",
      "166       3    13.45        3.70  2.60               23.0        111           1.70        0.92   \n",
      "167       3    12.82        3.37  2.30               19.5         88           1.48        0.66   \n",
      "168       3    13.58        2.58  2.69               24.5        105           1.55        0.84   \n",
      "169       3    13.40        4.60  2.86               25.0        112           1.98        0.96   \n",
      "170       3    12.20        3.03  2.32               19.0         96           1.25        0.49   \n",
      "171       3    12.77        2.39  2.28               19.5         86           1.39        0.51   \n",
      "172       3    14.16        2.51  2.48               20.0         91           1.68        0.70   \n",
      "173       3    13.71        5.65  2.45               20.5         95           1.68        0.61   \n",
      "174       3    13.40        3.91  2.48               23.0        102           1.80        0.75   \n",
      "175       3    13.27        4.28  2.26               20.0        120           1.59        0.69   \n",
      "176       3    13.17        2.59  2.37               20.0        120           1.65        0.68   \n",
      "177       3    14.13        4.10  2.74               24.5         96           2.05        0.76   \n",
      "\n",
      "     Nonflavanoid_phenols  Proanthocyanins  Color intensity   Hue  OD280/OD315 of diluted wines  \\\n",
      "0                    0.28             2.29             5.64  1.04                          3.92   \n",
      "1                    0.26             1.28             4.38  1.05                          3.40   \n",
      "2                    0.30             2.81             5.68  1.03                          3.17   \n",
      "3                    0.24             2.18             7.80  0.86                          3.45   \n",
      "4                    0.39             1.82             4.32  1.04                          2.93   \n",
      "5                    0.34             1.97             6.75  1.05                          2.85   \n",
      "6                    0.30             1.98             5.25  1.02                          3.58   \n",
      "7                    0.31             1.25             5.05  1.06                          3.58   \n",
      "8                    0.29             1.98             5.20  1.08                          2.85   \n",
      "9                    0.22             1.85             7.22  1.01                          3.55   \n",
      "10                   0.22             2.38             5.75  1.25                          3.17   \n",
      "11                   0.26             1.57             5.00  1.17                          2.82   \n",
      "12                   0.29             1.81             5.60  1.15                          2.90   \n",
      "13                   0.43             2.81             5.40  1.25                          2.73   \n",
      "14                   0.29             2.96             7.50  1.20                          3.00   \n",
      "15                   0.30             1.46             7.30  1.28                          2.88   \n",
      "16                   0.33             1.97             6.20  1.07                          2.65   \n",
      "17                   0.40             1.72             6.60  1.13                          2.57   \n",
      "18                   0.32             1.86             8.70  1.23                          2.82   \n",
      "19                   0.17             1.66             5.10  0.96                          3.36   \n",
      "20                   0.24             2.10             5.65  1.09                          3.71   \n",
      "21                   0.25             1.98             4.50  1.03                          3.52   \n",
      "22                   0.27             1.69             3.80  1.11                          4.00   \n",
      "23                   0.26             1.46             3.93  1.09                          3.63   \n",
      "24                   0.28             1.66             3.52  1.12                          3.82   \n",
      "25                   0.47             1.92             3.58  1.13                          3.20   \n",
      "26                   0.34             1.45             4.80  0.92                          3.22   \n",
      "27                   0.27             1.35             3.95  1.02                          2.77   \n",
      "28                   0.37             1.76             4.50  1.25                          3.40   \n",
      "29                   0.26             1.98             4.70  1.04                          3.59   \n",
      "..                    ...              ...              ...   ...                           ...   \n",
      "148                  0.45             1.25             8.42  0.55                          1.62   \n",
      "149                  0.34             1.14             9.40  0.57                          1.33   \n",
      "150                  0.22             1.25             8.60  0.59                          1.30   \n",
      "151                  0.24             1.26            10.80  0.48                          1.47   \n",
      "152                  0.26             1.56             7.10  0.61                          1.33   \n",
      "153                  0.61             1.87            10.52  0.56                          1.51   \n",
      "154                  0.53             1.40             7.60  0.58                          1.55   \n",
      "155                  0.61             1.55             7.90  0.60                          1.48   \n",
      "156                  0.48             1.56             9.01  0.57                          1.64   \n",
      "157                  0.63             1.14             7.50  0.67                          1.73   \n",
      "158                  0.53             2.70            13.00  0.57                          1.96   \n",
      "159                  0.52             2.29            11.75  0.57                          1.78   \n",
      "160                  0.50             1.04             7.65  0.56                          1.58   \n",
      "161                  0.50             0.80             5.88  0.96                          1.82   \n",
      "162                  0.60             0.96             5.58  0.87                          2.11   \n",
      "163                  0.40             0.94             5.28  0.68                          1.75   \n",
      "164                  0.41             1.03             9.58  0.70                          1.68   \n",
      "165                  0.52             1.15             6.62  0.78                          1.75   \n",
      "166                  0.43             1.46            10.68  0.85                          1.56   \n",
      "167                  0.40             0.97            10.26  0.72                          1.75   \n",
      "168                  0.39             1.54             8.66  0.74                          1.80   \n",
      "169                  0.27             1.11             8.50  0.67                          1.92   \n",
      "170                  0.40             0.73             5.50  0.66                          1.83   \n",
      "171                  0.48             0.64             9.90  0.57                          1.63   \n",
      "172                  0.44             1.24             9.70  0.62                          1.71   \n",
      "173                  0.52             1.06             7.70  0.64                          1.74   \n",
      "174                  0.43             1.41             7.30  0.70                          1.56   \n",
      "175                  0.43             1.35            10.20  0.59                          1.56   \n",
      "176                  0.53             1.46             9.30  0.60                          1.62   \n",
      "177                  0.56             1.35             9.20  0.61                          1.60   \n",
      "\n",
      "     Proline  \n",
      "0       1065  \n",
      "1       1050  \n",
      "2       1185  \n",
      "3       1480  \n",
      "4        735  \n",
      "5       1450  \n",
      "6       1290  \n",
      "7       1295  \n",
      "8       1045  \n",
      "9       1045  \n",
      "10      1510  \n",
      "11      1280  \n",
      "12      1320  \n",
      "13      1150  \n",
      "14      1547  \n",
      "15      1310  \n",
      "16      1280  \n",
      "17      1130  \n",
      "18      1680  \n",
      "19       845  \n",
      "20       780  \n",
      "21       770  \n",
      "22      1035  \n",
      "23      1015  \n",
      "24       845  \n",
      "25       830  \n",
      "26      1195  \n",
      "27      1285  \n",
      "28       915  \n",
      "29      1035  \n",
      "..       ...  \n",
      "148      650  \n",
      "149      550  \n",
      "150      500  \n",
      "151      480  \n",
      "152      425  \n",
      "153      675  \n",
      "154      640  \n",
      "155      725  \n",
      "156      480  \n",
      "157      880  \n",
      "158      660  \n",
      "159      620  \n",
      "160      520  \n",
      "161      680  \n",
      "162      570  \n",
      "163      675  \n",
      "164      615  \n",
      "165      520  \n",
      "166      695  \n",
      "167      685  \n",
      "168      750  \n",
      "169      630  \n",
      "170      510  \n",
      "171      470  \n",
      "172      660  \n",
      "173      740  \n",
      "174      750  \n",
      "175      835  \n",
      "176      840  \n",
      "177      560  \n",
      "\n",
      "[178 rows x 14 columns]>\n"
     ]
    }
   ],
   "source": [
    "from pandas import read_csv\n",
    "from pandas import set_option\n",
    "filename = 'wine.data.csv'\n",
    "names = ['target', 'alcohol', 'malic_acid', 'ash', 'alcalinity_of_ash', 'magnesium', 'total_phenols', 'Flavanoids',\n",
    "         'Nonflavanoid_phenols', 'Proanthocyanins', 'Color intensity', 'Hue', 'OD280/OD315 of diluted wines',  'Proline']\n",
    "dataset = read_csv(filename, names=names)\n",
    "print(dataset.skew)"
   ]
  },
  {
   "cell_type": "markdown",
   "metadata": {},
   "source": [
    "## STEP 3: Data Visualization To Understand The Data"
   ]
  },
  {
   "cell_type": "code",
   "execution_count": 45,
   "metadata": {},
   "outputs": [
    {
     "data": {
      "image/png": "[encoded data removed]",
      "text/plain": [
       "<matplotlib.figure.Figure at 0x2614c03b5f8>"
      ]
     },
     "metadata": {},
     "output_type": "display_data"
    }
   ],
   "source": [
    "import matplotlib.pyplot as plt\n",
    "%matplotlib inline\n",
    "filename = 'wine.data.csv'\n",
    "names = ['target', 'alcohol', 'malic_acid', 'ash', 'alcalinity_of_ash', 'magnesium', 'total_phenols', 'Flavanoids',\n",
    "         'Nonflavanoid_phenols', 'Proanthocyanins', 'Color intensity', 'Hue', 'OD280/OD315 of diluted wines',  'Proline']\n",
    "dataset = read_csv(filename, names=names)\n",
    "dataset.hist(figsize = (20,15))\n",
    "plt.show()"
   ]
  },
  {
   "cell_type": "markdown",
   "metadata": {},
   "source": [
    "## STEP 4: Data Preprocessing"
   ]
  },
  {
   "cell_type": "markdown",
   "metadata": {},
   "source": [
    "### RESCALE DATA"
   ]
  },
  {
   "cell_type": "code",
   "execution_count": 46,
   "metadata": {},
   "outputs": [
    {
     "name": "stdout",
     "output_type": "stream",
     "text": [
      "[[0.    0.842 0.192 0.572 0.258 0.62  0.628 0.574 0.283 0.593 0.372 0.455\n",
      "  0.971]\n",
      " [0.    0.571 0.206 0.417 0.031 0.326 0.576 0.511 0.245 0.274 0.265 0.463\n",
      "  0.78 ]\n",
      " [0.    0.561 0.32  0.701 0.412 0.337 0.628 0.612 0.321 0.757 0.375 0.447\n",
      "  0.696]\n",
      " [0.    0.879 0.239 0.61  0.32  0.467 0.99  0.665 0.208 0.558 0.556 0.309\n",
      "  0.799]\n",
      " [0.    0.582 0.366 0.807 0.536 0.522 0.628 0.496 0.491 0.445 0.259 0.455\n",
      "  0.608]]\n"
     ]
    }
   ],
   "source": [
    "from pandas import read_csv\n",
    "from numpy import set_printoptions\n",
    "from sklearn.preprocessing import MinMaxScaler\n",
    "filename = 'wine.data.csv'\n",
    "names = ['target', 'alcohol', 'malic_acid', 'ash', 'alcalinity_of_ash', 'magnesium', 'total_phenols', 'Flavanoids',\n",
    "         'Nonflavanoid_phenols', 'Proanthocyanins', 'Color intensity', 'Hue', 'OD280/OD315 of diluted wines',  'Proline']\n",
    "dataset = read_csv(filename, names=names)\n",
    "array = dataset.values\n",
    "# separate array into input and output components\n",
    "X = array[:,0:13]\n",
    "Y = array[:,0]\n",
    "scaler = MinMaxScaler(feature_range=(0, 1))\n",
    "rescaledX = scaler.fit_transform(X)\n",
    "# summarize transformed data\n",
    "set_printoptions(precision=3)\n",
    "print(rescaledX[0:5,:])"
   ]
  },
  {
   "cell_type": "markdown",
   "metadata": {},
   "source": [
    "###  STANDARDZE DATA"
   ]
  },
  {
   "cell_type": "code",
   "execution_count": 47,
   "metadata": {},
   "outputs": [
    {
     "name": "stdout",
     "output_type": "stream",
     "text": [
      "[[-1.214  1.519 -0.562  0.232 -1.17   1.914  0.809  1.035 -0.66   1.225\n",
      "   0.252  0.362  1.848]\n",
      " [-1.214  0.246 -0.499 -0.828 -2.491  0.018  0.569  0.734 -0.821 -0.545\n",
      "  -0.293  0.406  1.113]\n",
      " [-1.214  0.197  0.021  1.109 -0.269  0.088  0.809  1.216 -0.498  2.136\n",
      "   0.269  0.318  0.789]\n",
      " [-1.214  1.692 -0.347  0.488 -0.809  0.931  2.491  1.467 -0.982  1.032\n",
      "   1.186 -0.428  1.184]\n",
      " [-1.214  0.296  0.228  1.84   0.452  1.282  0.809  0.663  0.227  0.401\n",
      "  -0.319  0.362  0.45 ]]\n"
     ]
    }
   ],
   "source": [
    "from sklearn.preprocessing import StandardScaler\n",
    "from pandas import read_csv\n",
    "from numpy import set_printoptions\n",
    "filename = 'wine.data.csv'\n",
    "names = ['target', 'alcohol', 'malic_acid', 'ash', 'alcalinity_of_ash', 'magnesium', 'total_phenols', 'Flavanoids',\n",
    "         'Nonflavanoid_phenols', 'Proanthocyanins', 'Color intensity', 'Hue', 'OD280/OD315 of diluted wines',  'Proline']\n",
    "dataframe = read_csv(filename, names=names)\n",
    "array = dataframe.values\n",
    "# separate array into input and output components\n",
    "X = array[:,0:13]\n",
    "Y = array[:,0]\n",
    "scaler = StandardScaler().fit(X)\n",
    "rescaledX = scaler.transform(X)\n",
    "# summarize transformed data\n",
    "set_printoptions(precision=3)\n",
    "print(rescaledX[0:5,:])"
   ]
  },
  {
   "cell_type": "markdown",
   "metadata": {},
   "source": [
    "### NORMALIZE DATA"
   ]
  },
  {
   "cell_type": "code",
   "execution_count": 48,
   "metadata": {},
   "outputs": [
    {
     "name": "stdout",
     "output_type": "stream",
     "text": [
      "[[0.008 0.11  0.013 0.019 0.121 0.986 0.022 0.024]\n",
      " [0.01  0.13  0.018 0.021 0.11  0.984 0.026 0.027]\n",
      " [0.01  0.127 0.023 0.026 0.179 0.974 0.027 0.031]\n",
      " [0.009 0.125 0.017 0.022 0.146 0.98  0.033 0.03 ]\n",
      " [0.008 0.11  0.021 0.024 0.174 0.978 0.023 0.022]]\n"
     ]
    }
   ],
   "source": [
    "from sklearn.preprocessing import Normalizer\n",
    "from pandas import read_csv\n",
    "from numpy import set_printoptions\n",
    "filename = 'wine.data.csv'\n",
    "names = ['target', 'alcohol', 'malic_acid', 'ash', 'alcalinity_of_ash', 'magnesium', 'total_phenols', 'Flavanoids',\n",
    "         'Nonflavanoid_phenols', 'Proanthocyanins', 'Color intensity', 'Hue', 'OD280/OD315 of diluted wines',  'Proline']\n",
    "dataframe = read_csv(filename, names=names)\n",
    "array = dataframe.values\n",
    "# separate array into input and output components\n",
    "X = array[:,0:8]\n",
    "Y = array[:,8]\n",
    "scaler = Normalizer().fit(X)\n",
    "normalizedX = scaler.transform(X)\n",
    "# summarize transformed data\n",
    "set_printoptions(precision=3)\n",
    "print(normalizedX[0:5,:])"
   ]
  },
  {
   "cell_type": "markdown",
   "metadata": {},
   "source": [
    "### BINARIZE DATA"
   ]
  },
  {
   "cell_type": "code",
   "execution_count": 50,
   "metadata": {},
   "outputs": [
    {
     "name": "stdout",
     "output_type": "stream",
     "text": [
      "[[1. 1. 1. 1. 1. 1. 1. 1.]\n",
      " [1. 1. 1. 1. 1. 1. 1. 1.]\n",
      " [1. 1. 1. 1. 1. 1. 1. 1.]\n",
      " [1. 1. 1. 1. 1. 1. 1. 1.]\n",
      " [1. 1. 1. 1. 1. 1. 1. 1.]]\n"
     ]
    }
   ],
   "source": [
    "# binarization\n",
    "from sklearn.preprocessing import Binarizer\n",
    "from pandas import read_csv\n",
    "from numpy import set_printoptions\n",
    "filename = 'wine.data.csv'\n",
    "names = ['target', 'alcohol', 'malic_acid', 'ash', 'alcalinity_of_ash', 'magnesium', 'total_phenols', 'Flavanoids',\n",
    "         'Nonflavanoid_phenols', 'Proanthocyanins', 'Color intensity', 'Hue', 'OD280/OD315 of diluted wines',  'Proline']\n",
    "dataframe = read_csv(filename, names=names)\n",
    "array = dataframe.values\n",
    "# separate array into input and output components\n",
    "X = array[:,0:8]\n",
    "Y = array[:,8]\n",
    "binarizer = Binarizer(threshold=0.0).fit(X)\n",
    "binaryX = binarizer.transform(X)\n",
    "# summarize transformed data\n",
    "set_printoptions(precision=3)\n",
    "print(binaryX[0:5,:])"
   ]
  },
  {
   "cell_type": "markdown",
   "metadata": {},
   "source": [
    "## STEP 5: Resampling Data To Train/Test The Machine Learning Models And Evaluate Performance"
   ]
  },
  {
   "cell_type": "markdown",
   "metadata": {},
   "source": [
    "### Split into Train and Test Sets"
   ]
  },
  {
   "cell_type": "code",
   "execution_count": 52,
   "metadata": {},
   "outputs": [
    {
     "name": "stdout",
     "output_type": "stream",
     "text": [
      "Accuracy: 100.000%\n"
     ]
    }
   ],
   "source": [
    "# Evaluate using a train and a test set\n",
    "from pandas import read_csv\n",
    "from sklearn.model_selection import train_test_split\n",
    "from sklearn.linear_model import LogisticRegression\n",
    "filename = 'wine.data.csv'\n",
    "names = ['target', 'alcohol', 'malic_acid', 'ash', 'alcalinity_of_ash', 'magnesium', 'total_phenols', 'Flavanoids',\n",
    "         'Nonflavanoid_phenols', 'Proanthocyanins', 'Color intensity', 'Hue', 'OD280/OD315 of diluted wines',  'Proline']\n",
    "dataframe = read_csv(filename, names=names)\n",
    "array = dataframe.values\n",
    "X = array[:,0:13]\n",
    "Y = array[:,0]\n",
    "test_size = 0.33\n",
    "seed = 7\n",
    "X_train, X_test, Y_train, Y_test = train_test_split(X, Y, test_size=test_size,\n",
    "random_state=seed)\n",
    "model = LogisticRegression()\n",
    "model.fit(X_train, Y_train)\n",
    "result = model.score(X_test, Y_test)\n",
    "print(\"Accuracy: %.3f%%\" % (result*100.0))"
   ]
  },
  {
   "cell_type": "markdown",
   "metadata": {},
   "source": [
    "### K-fold Cross-Validation"
   ]
  },
  {
   "cell_type": "code",
   "execution_count": 53,
   "metadata": {},
   "outputs": [
    {
     "name": "stdout",
     "output_type": "stream",
     "text": [
      "Accuracy: 94.444% (8.607%)\n"
     ]
    }
   ],
   "source": [
    "from pandas import read_csv\n",
    "from sklearn.model_selection import KFold\n",
    "from sklearn.model_selection import cross_val_score\n",
    "from sklearn.linear_model import LogisticRegression\n",
    "filename = 'wine.data.csv'\n",
    "names = ['target', 'alcohol', 'malic_acid', 'ash', 'alcalinity_of_ash', 'magnesium', 'total_phenols', 'Flavanoids',\n",
    "         'Nonflavanoid_phenols', 'Proanthocyanins', 'Color intensity', 'Hue', 'OD280/OD315 of diluted wines',  'Proline']\n",
    "dataframe = read_csv(filename, names=names)\n",
    "array = dataframe.values\n",
    "X = array[:,0:13]\n",
    "Y = array[:,0]\n",
    "num_folds = 10\n",
    "seed = 7\n",
    "kfold = KFold(n_splits=num_folds, random_state=seed)\n",
    "model = LogisticRegression()\n",
    "results = cross_val_score(model, X, Y, cv=kfold)\n",
    "print(\"Accuracy: %.3f%% (%.3f%%)\" % (results.mean()*100.0, results.std()*100.0))"
   ]
  },
  {
   "cell_type": "markdown",
   "metadata": {},
   "source": [
    "## STEP 6: Performance Metrics To Train & Evaluate Machine Learning Models"
   ]
  },
  {
   "cell_type": "markdown",
   "metadata": {},
   "source": [
    "## Classification Metrics"
   ]
  },
  {
   "cell_type": "markdown",
   "metadata": {},
   "source": [
    "### Classification Accuracy"
   ]
  },
  {
   "cell_type": "code",
   "execution_count": 55,
   "metadata": {},
   "outputs": [
    {
     "name": "stdout",
     "output_type": "stream",
     "text": [
      "Accuracy: 0.944 (0.086)\n"
     ]
    }
   ],
   "source": [
    "from pandas import read_csv\n",
    "from sklearn.model_selection import KFold\n",
    "from sklearn.model_selection import cross_val_score\n",
    "from sklearn.linear_model import LogisticRegression\n",
    "filename = 'wine.data.csv'\n",
    "names = ['target', 'alcohol', 'malic_acid', 'ash', 'alcalinity_of_ash', 'magnesium', 'total_phenols', 'Flavanoids',\n",
    "         'Nonflavanoid_phenols', 'Proanthocyanins', 'Color intensity', 'Hue', 'OD280/OD315 of diluted wines',  'Proline']\n",
    "dataframe = read_csv(filename, names=names)\n",
    "array = dataframe.values\n",
    "X = array[:,0:13]\n",
    "Y = array[:,0]\n",
    "kfold = KFold(n_splits=10, random_state=7)\n",
    "model = LogisticRegression()\n",
    "scoring = 'accuracy'\n",
    "results = cross_val_score(model, X, Y, cv=kfold, scoring=scoring)\n",
    "print(\"Accuracy: %.3f (%.3f)\" % (results.mean(), results.std()))"
   ]
  },
  {
   "cell_type": "markdown",
   "metadata": {},
   "source": [
    "### CONFUSION MATRIX"
   ]
  },
  {
   "cell_type": "code",
   "execution_count": 74,
   "metadata": {},
   "outputs": [
    {
     "name": "stdout",
     "output_type": "stream",
     "text": [
      "[[14  0  0]\n",
      " [ 0 27  0]\n",
      " [ 0  0 18]]\n"
     ]
    }
   ],
   "source": [
    "from pandas import read_csv\n",
    "from sklearn.model_selection import train_test_split\n",
    "from sklearn.linear_model import LogisticRegression\n",
    "from sklearn.metrics import confusion_matrix\n",
    "filename = 'wine.data.csv'\n",
    "names = ['target', 'alcohol', 'malic_acid', 'ash', 'alcalinity_of_ash', 'magnesium', 'total_phenols', 'Flavanoids',\n",
    "         'Nonflavanoid_phenols', 'Proanthocyanins', 'Color intensity', 'Hue', 'OD280/OD315 of diluted wines',  'Proline']\n",
    "dataframe = read_csv(filename, names=names)\n",
    "array = dataframe.values\n",
    "X = array[:,0:13]\n",
    "Y = array[:,0]\n",
    "test_size = 0.33\n",
    "seed = 7\n",
    "X_train, X_test, Y_train, Y_test = train_test_split(X, Y, test_size=test_size,\n",
    "random_state=seed)\n",
    "model = LogisticRegression()\n",
    "model.fit(X_train, Y_train)\n",
    "predicted = model.predict(X_test)\n",
    "matrix = confusion_matrix(Y_test, predicted)\n",
    "print(matrix)"
   ]
  },
  {
   "cell_type": "markdown",
   "metadata": {},
   "source": [
    "### CLASSIFICATION REPORT"
   ]
  },
  {
   "cell_type": "code",
   "execution_count": 67,
   "metadata": {},
   "outputs": [
    {
     "name": "stdout",
     "output_type": "stream",
     "text": [
      "             precision    recall  f1-score   support\n",
      "\n",
      "        1.0       1.00      1.00      1.00        14\n",
      "        2.0       1.00      1.00      1.00        27\n",
      "        3.0       1.00      1.00      1.00        18\n",
      "\n",
      "avg / total       1.00      1.00      1.00        59\n",
      "\n"
     ]
    }
   ],
   "source": [
    "from pandas import read_csv\n",
    "from sklearn.model_selection import train_test_split\n",
    "from sklearn.linear_model import LogisticRegression\n",
    "from sklearn.metrics import classification_report\n",
    "filename = 'wine.data.csv'\n",
    "names = ['target', 'alcohol', 'malic_acid', 'ash', 'alcalinity_of_ash', 'magnesium', 'total_phenols', 'Flavanoids',\n",
    "         'Nonflavanoid_phenols', 'Proanthocyanins', 'Color intensity', 'Hue', 'OD280/OD315 of diluted wines',  'Proline']\n",
    "dataframe = read_csv(filename, names=names)\n",
    "array = dataframe.values\n",
    "X = array[:,0:13]\n",
    "Y = array[:,0]\n",
    "test_size = 0.33\n",
    "seed = 7\n",
    "X_train, X_test, Y_train, Y_test = train_test_split(X, Y, test_size=test_size,\n",
    "random_state=seed)\n",
    "model = LogisticRegression()\n",
    "model.fit(X_train, Y_train)\n",
    "predicted = model.predict(X_test)\n",
    "report = classification_report(Y_test, predicted)\n",
    "print(report)"
   ]
  },
  {
   "cell_type": "markdown",
   "metadata": {},
   "source": [
    "## STEP 7: Linear Machine Learning Algorithms"
   ]
  },
  {
   "cell_type": "markdown",
   "metadata": {},
   "source": [
    "### LOGISTIC REGRESSION"
   ]
  },
  {
   "cell_type": "code",
   "execution_count": 68,
   "metadata": {},
   "outputs": [
    {
     "name": "stdout",
     "output_type": "stream",
     "text": [
      "0.9444444444444444\n"
     ]
    }
   ],
   "source": [
    "from pandas import read_csv\n",
    "from sklearn.model_selection import KFold\n",
    "from sklearn.model_selection import cross_val_score\n",
    "from sklearn.linear_model import LogisticRegression\n",
    "filename = 'wine.data.csv'\n",
    "names = ['target', 'alcohol', 'malic_acid', 'ash', 'alcalinity_of_ash', 'magnesium', 'total_phenols', 'Flavanoids',\n",
    "         'Nonflavanoid_phenols', 'Proanthocyanins', 'Color intensity', 'Hue', 'OD280/OD315 of diluted wines',  'Proline']\n",
    "dataframe = read_csv(filename, names=names)\n",
    "array = dataframe.values\n",
    "X = array[:,0:13]\n",
    "Y = array[:,0]\n",
    "num_folds = 10\n",
    "kfold = KFold(n_splits=10, random_state=7)\n",
    "model = LogisticRegression()\n",
    "results = cross_val_score(model, X, Y, cv=kfold)\n",
    "print(results.mean())"
   ]
  },
  {
   "cell_type": "markdown",
   "metadata": {},
   "source": [
    "## Nonlinear Machine Learning Algorithms"
   ]
  },
  {
   "cell_type": "markdown",
   "metadata": {},
   "source": [
    "### k-Nearest Neighbors"
   ]
  },
  {
   "cell_type": "code",
   "execution_count": 69,
   "metadata": {},
   "outputs": [
    {
     "name": "stdout",
     "output_type": "stream",
     "text": [
      "1.0\n"
     ]
    }
   ],
   "source": [
    "from pandas import read_csv\n",
    "from sklearn.model_selection import KFold\n",
    "from sklearn.model_selection import cross_val_score\n",
    "from sklearn.tree import DecisionTreeClassifier\n",
    "filename = 'wine.data.csv'\n",
    "names = ['target', 'alcohol', 'malic_acid', 'ash', 'alcalinity_of_ash', 'magnesium', 'total_phenols', 'Flavanoids',\n",
    "         'Nonflavanoid_phenols', 'Proanthocyanins', 'Color intensity', 'Hue', 'OD280/OD315 of diluted wines',  'Proline']\n",
    "dataframe = read_csv(filename, names=names)\n",
    "array = dataframe.values\n",
    "X = array[:,0:13]\n",
    "Y = array[:,0]\n",
    "kfold = KFold(n_splits=10, random_state=7)\n",
    "model = DecisionTreeClassifier()\n",
    "results = cross_val_score(model, X, Y, cv=kfold)\n",
    "print(results.mean())"
   ]
  },
  {
   "cell_type": "markdown",
   "metadata": {},
   "source": [
    "### Naive Bayes"
   ]
  },
  {
   "cell_type": "code",
   "execution_count": 71,
   "metadata": {},
   "outputs": [
    {
     "name": "stdout",
     "output_type": "stream",
     "text": [
      "1.0\n"
     ]
    }
   ],
   "source": [
    "from pandas import read_csv\n",
    "from sklearn.model_selection import KFold\n",
    "from sklearn.model_selection import cross_val_score\n",
    "from sklearn.naive_bayes import GaussianNB\n",
    "filename = 'wine.data.csv'\n",
    "names = ['target', 'alcohol', 'malic_acid', 'ash', 'alcalinity_of_ash', 'magnesium', 'total_phenols', 'Flavanoids',\n",
    "         'Nonflavanoid_phenols', 'Proanthocyanins', 'Color intensity', 'Hue', 'OD280/OD315 of diluted wines',  'Proline']\n",
    "dataframe = read_csv(filename, names=names)\n",
    "array = dataframe.values\n",
    "X = array[:,0:13]\n",
    "Y = array[:,0]\n",
    "kfold = KFold(n_splits=10, random_state=7)\n",
    "model = GaussianNB()\n",
    "results = cross_val_score(model, X, Y, cv=kfold)\n",
    "print(results.mean())"
   ]
  },
  {
   "cell_type": "markdown",
   "metadata": {},
   "source": [
    "### Classification and Regression Trees"
   ]
  },
  {
   "cell_type": "code",
   "execution_count": 72,
   "metadata": {},
   "outputs": [
    {
     "name": "stdout",
     "output_type": "stream",
     "text": [
      "1.0\n"
     ]
    }
   ],
   "source": [
    "from pandas import read_csv\n",
    "from sklearn.model_selection import KFold\n",
    "from sklearn.model_selection import cross_val_score\n",
    "from sklearn.tree import DecisionTreeClassifier\n",
    "filename = 'wine.data.csv'\n",
    "names = ['target', 'alcohol', 'malic_acid', 'ash', 'alcalinity_of_ash', 'magnesium', 'total_phenols', 'Flavanoids',\n",
    "         'Nonflavanoid_phenols', 'Proanthocyanins', 'Color intensity', 'Hue', 'OD280/OD315 of diluted wines',  'Proline']\n",
    "dataframe = read_csv(filename, names=names)\n",
    "array = dataframe.values\n",
    "X = array[:,0:13]\n",
    "Y = array[:,0]\n",
    "kfold = KFold(n_splits=10, random_state=7)\n",
    "model = DecisionTreeClassifier()\n",
    "results = cross_val_score(model, X, Y, cv=kfold)\n",
    "print(results.mean())"
   ]
  },
  {
   "cell_type": "markdown",
   "metadata": {},
   "source": [
    "### Support Vector Machines"
   ]
  },
  {
   "cell_type": "code",
   "execution_count": 70,
   "metadata": {},
   "outputs": [
    {
     "name": "stdout",
     "output_type": "stream",
     "text": [
      "0.8584967320261437\n"
     ]
    }
   ],
   "source": [
    "from pandas import read_csv\n",
    "from sklearn.model_selection import KFold\n",
    "from sklearn.model_selection import cross_val_score\n",
    "from sklearn.svm import SVC\n",
    "filename = 'wine.data.csv'\n",
    "names = ['target', 'alcohol', 'malic_acid', 'ash', 'alcalinity_of_ash', 'magnesium', 'total_phenols', 'Flavanoids',\n",
    "         'Nonflavanoid_phenols', 'Proanthocyanins', 'Color intensity', 'Hue', 'OD280/OD315 of diluted wines',  'Proline']\n",
    "dataframe = read_csv(filename, names=names)\n",
    "array = dataframe.values\n",
    "X = array[:,0:13]\n",
    "Y = array[:,0]\n",
    "kfold = KFold(n_splits=10, random_state=7)\n",
    "model = SVC()\n",
    "results = cross_val_score(model, X, Y, cv=kfold)\n",
    "print(results.mean())"
   ]
  },
  {
   "cell_type": "markdown",
   "metadata": {},
   "source": [
    "### Best algorithms are k nearest neighbors,classification and regression trees and support vector machines."
   ]
  },
  {
   "cell_type": "code",
   "execution_count": null,
   "metadata": {},
   "outputs": [],
   "source": []
  }
 ],
 "metadata": {
  "kernelspec": {
   "display_name": "Python [conda env:Anaconda3]",
   "language": "python",
   "name": "conda-env-Anaconda3-py"
  },
  "language_info": {
   "codemirror_mode": {
    "name": "ipython",
    "version": 3
   },
   "file_extension": ".py",
   "mimetype": "text/x-python",
   "name": "python",
   "nbconvert_exporter": "python",
   "pygments_lexer": "ipython3",
   "version": "3.5.4"
  }
 },
 "nbformat": 4,
 "nbformat_minor": 2
}
